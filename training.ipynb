{
 "cells": [
  {
   "cell_type": "code",
   "execution_count": 12,
   "metadata": {},
   "outputs": [],
   "source": [
    "import pandas as pd\n",
    "import numpy as np\n",
    "import seaborn as sns\n",
    "import matplotlib.pyplot as plt\n",
    "\n",
    "from sklearn.model_selection import train_test_split\n",
    "from sklearn.linear_model import LogisticRegression\n",
    "from sklearn.metrics import accuracy_score, classification_report\n",
    "from sklearn.neighbors import KNeighborsClassifier\n",
    "from sklearn.naive_bayes import GaussianNB\n",
    "from sklearn.ensemble import GradientBoostingClassifier\n",
    "from sklearn.svm import SVC\n",
    "from sklearn.tree import DecisionTreeClassifier\n",
    "from sklearn.ensemble import RandomForestClassifier\n",
    "import tensorflow as tf\n",
    "from tensorflow.keras.models import Sequential\n",
    "from tensorflow.keras.layers import Dense\n",
    "from sklearn.model_selection import train_test_split\n",
    "from sklearn.preprocessing import StandardScaler"
   ]
  },
  {
   "cell_type": "code",
   "execution_count": 103,
   "metadata": {},
   "outputs": [],
   "source": [
    "def one_hot_encode_columns(columns_to_encode:list, df:pd.DataFrame)->pd.DataFrame:\n",
    "  \"\"\"\n",
    "  Takes in a list of columns to normalize\n",
    "\n",
    "  Args:\n",
    "      columns_to_encode (list): _description_\n",
    "\n",
    "  Returns:\n",
    "      pd.DataFrame: _description_\n",
    "  \"\"\"\n",
    "  \n",
    "  col_change = {\n",
    "    \"Married\":[\"Yes\",\"No\"],\n",
    "    \"Education\":[\"Graduate\",\"Not Graduate\"],\n",
    "    \"Gender\":[\"Male\",\"Female\"],\n",
    "    \"Self_Employed\":[\"Yes\",\"No\"],\n",
    "    \"Loan_Status\":[\"Y\",\"N\"]\n",
    "    }\n",
    "  for idx, col in enumerate(columns_to_encode):\n",
    "    first, second = col_change[col]\n",
    "    df[col] = df[col].apply(lambda x: 1 if x == first else 0)\n",
    "  \n",
    "  df[\"Rural\"] = df[\"Property_Area\"].apply(lambda x: 1 if x ==\"Rural\" else 0)\n",
    "  df[\"Urban\"] = df[\"Property_Area\"].apply(lambda x: 1 if x ==\"Urban\" else 0)\n",
    "  df[\"Semiurban\"] = df[\"Property_Area\"].apply(lambda x: 1 if x ==\"Semiurban\" else 0)\n",
    "    \n",
    "  return df\n",
    "  "
   ]
  },
  {
   "cell_type": "code",
   "execution_count": 93,
   "metadata": {},
   "outputs": [],
   "source": [
    "def logistic_regression_analysis(df:pd.DataFrame, y:str, cols_to_drop:list)->None:\n",
    "  \"\"\"\n",
    "  Logistic Regression Function\n",
    "\n",
    "  Args:\n",
    "      df (_type_): Takes in a pd.Dataframe, a y column name and a list of columns to drop\n",
    "  \"\"\"\n",
    "  X = df.drop(cols_to_drop, axis=1)\n",
    "  \n",
    "  X_train, X_test, y_train, y_test = train_test_split(X,y,test_size=0.3, random_state=42)\n",
    "  \n",
    "  logistic_regression = LogisticRegression()\n",
    "\n",
    "  logistic_regression.fit(X_train, y_train)\n",
    "\n",
    "  y_predictions = logistic_regression.predict(X_test)\n",
    "  \n",
    "  accuracy = accuracy_score(y_test,y_predictions)\n",
    "  \n",
    "  print(classification_report(y_test,y_predictions))\n",
    "\n",
    "  print(f\"The Accuracy: {accuracy}\")\n",
    "  \n",
    "\n",
    "def KNN_analysis(df:pd.DataFrame, y:str, cols_to_drop:list)->None:\n",
    "  \"\"\"_summary_\n",
    "\n",
    "  Args:\n",
    "      df (_type_): _description_\n",
    "  \"\"\"\n",
    "  X = df.drop(cols_to_drop, axis=1)\n",
    "  \n",
    "  \n",
    "  X_train, X_test, y_train, y_test = train_test_split(X,y,test_size=0.3, random_state=42)\n",
    "  \n",
    "  knn = KNeighborsClassifier()\n",
    "  knn.fit(X_train, y_train)\n",
    "  knn_pred = knn.predict(X_test)\n",
    "  print(\"KNN Accuracy:\", accuracy_score(y_test, knn_pred))\n",
    "\n",
    "def SVM_analysis(df:pd.DataFrame, y:str, cols_to_drop:list)->None:\n",
    "  \"\"\"_summary_\n",
    "\n",
    "  Args:\n",
    "      df (_type_): _description_\n",
    "  \"\"\"\n",
    "  X = df.drop(cols_to_drop, axis=1)\n",
    "  \n",
    "  \n",
    "  X_train, X_test, y_train, y_test = train_test_split(X,y,test_size=0.3, random_state=42)\n",
    "  svm_model = SVC()\n",
    "  svm_model.fit(X_train, y_train)\n",
    "  svm_pred = svm_model.predict(X_test)\n",
    "  print(\"SVM Accuracy:\", accuracy_score(y_test, svm_pred))"
   ]
  },
  {
   "cell_type": "code",
   "execution_count": 104,
   "metadata": {},
   "outputs": [
    {
     "data": {
      "text/html": [
       "<div>\n",
       "<style scoped>\n",
       "    .dataframe tbody tr th:only-of-type {\n",
       "        vertical-align: middle;\n",
       "    }\n",
       "\n",
       "    .dataframe tbody tr th {\n",
       "        vertical-align: top;\n",
       "    }\n",
       "\n",
       "    .dataframe thead th {\n",
       "        text-align: right;\n",
       "    }\n",
       "</style>\n",
       "<table border=\"1\" class=\"dataframe\">\n",
       "  <thead>\n",
       "    <tr style=\"text-align: right;\">\n",
       "      <th></th>\n",
       "      <th>Loan_ID</th>\n",
       "      <th>Gender</th>\n",
       "      <th>Married</th>\n",
       "      <th>Dependents</th>\n",
       "      <th>Education</th>\n",
       "      <th>Self_Employed</th>\n",
       "      <th>ApplicantIncome</th>\n",
       "      <th>CoapplicantIncome</th>\n",
       "      <th>LoanAmount</th>\n",
       "      <th>Loan_Amount_Term</th>\n",
       "      <th>Credit_History</th>\n",
       "      <th>Property_Area</th>\n",
       "      <th>Loan_Status</th>\n",
       "    </tr>\n",
       "  </thead>\n",
       "  <tbody>\n",
       "    <tr>\n",
       "      <th>0</th>\n",
       "      <td>LP001003</td>\n",
       "      <td>Male</td>\n",
       "      <td>Yes</td>\n",
       "      <td>1</td>\n",
       "      <td>Graduate</td>\n",
       "      <td>No</td>\n",
       "      <td>4583</td>\n",
       "      <td>1508.0</td>\n",
       "      <td>128.0</td>\n",
       "      <td>360.0</td>\n",
       "      <td>1.0</td>\n",
       "      <td>Rural</td>\n",
       "      <td>N</td>\n",
       "    </tr>\n",
       "    <tr>\n",
       "      <th>1</th>\n",
       "      <td>LP001005</td>\n",
       "      <td>Male</td>\n",
       "      <td>Yes</td>\n",
       "      <td>0</td>\n",
       "      <td>Graduate</td>\n",
       "      <td>Yes</td>\n",
       "      <td>3000</td>\n",
       "      <td>0.0</td>\n",
       "      <td>66.0</td>\n",
       "      <td>360.0</td>\n",
       "      <td>1.0</td>\n",
       "      <td>Urban</td>\n",
       "      <td>Y</td>\n",
       "    </tr>\n",
       "    <tr>\n",
       "      <th>2</th>\n",
       "      <td>LP001006</td>\n",
       "      <td>Male</td>\n",
       "      <td>Yes</td>\n",
       "      <td>0</td>\n",
       "      <td>Not Graduate</td>\n",
       "      <td>No</td>\n",
       "      <td>2583</td>\n",
       "      <td>2358.0</td>\n",
       "      <td>120.0</td>\n",
       "      <td>360.0</td>\n",
       "      <td>1.0</td>\n",
       "      <td>Urban</td>\n",
       "      <td>Y</td>\n",
       "    </tr>\n",
       "    <tr>\n",
       "      <th>3</th>\n",
       "      <td>LP001008</td>\n",
       "      <td>Male</td>\n",
       "      <td>No</td>\n",
       "      <td>0</td>\n",
       "      <td>Graduate</td>\n",
       "      <td>No</td>\n",
       "      <td>6000</td>\n",
       "      <td>0.0</td>\n",
       "      <td>141.0</td>\n",
       "      <td>360.0</td>\n",
       "      <td>1.0</td>\n",
       "      <td>Urban</td>\n",
       "      <td>Y</td>\n",
       "    </tr>\n",
       "    <tr>\n",
       "      <th>4</th>\n",
       "      <td>LP001013</td>\n",
       "      <td>Male</td>\n",
       "      <td>Yes</td>\n",
       "      <td>0</td>\n",
       "      <td>Not Graduate</td>\n",
       "      <td>No</td>\n",
       "      <td>2333</td>\n",
       "      <td>1516.0</td>\n",
       "      <td>95.0</td>\n",
       "      <td>360.0</td>\n",
       "      <td>1.0</td>\n",
       "      <td>Urban</td>\n",
       "      <td>Y</td>\n",
       "    </tr>\n",
       "    <tr>\n",
       "      <th>...</th>\n",
       "      <td>...</td>\n",
       "      <td>...</td>\n",
       "      <td>...</td>\n",
       "      <td>...</td>\n",
       "      <td>...</td>\n",
       "      <td>...</td>\n",
       "      <td>...</td>\n",
       "      <td>...</td>\n",
       "      <td>...</td>\n",
       "      <td>...</td>\n",
       "      <td>...</td>\n",
       "      <td>...</td>\n",
       "      <td>...</td>\n",
       "    </tr>\n",
       "    <tr>\n",
       "      <th>376</th>\n",
       "      <td>LP002953</td>\n",
       "      <td>Male</td>\n",
       "      <td>Yes</td>\n",
       "      <td>3+</td>\n",
       "      <td>Graduate</td>\n",
       "      <td>No</td>\n",
       "      <td>5703</td>\n",
       "      <td>0.0</td>\n",
       "      <td>128.0</td>\n",
       "      <td>360.0</td>\n",
       "      <td>1.0</td>\n",
       "      <td>Urban</td>\n",
       "      <td>Y</td>\n",
       "    </tr>\n",
       "    <tr>\n",
       "      <th>377</th>\n",
       "      <td>LP002974</td>\n",
       "      <td>Male</td>\n",
       "      <td>Yes</td>\n",
       "      <td>0</td>\n",
       "      <td>Graduate</td>\n",
       "      <td>No</td>\n",
       "      <td>3232</td>\n",
       "      <td>1950.0</td>\n",
       "      <td>108.0</td>\n",
       "      <td>360.0</td>\n",
       "      <td>1.0</td>\n",
       "      <td>Rural</td>\n",
       "      <td>Y</td>\n",
       "    </tr>\n",
       "    <tr>\n",
       "      <th>378</th>\n",
       "      <td>LP002978</td>\n",
       "      <td>Female</td>\n",
       "      <td>No</td>\n",
       "      <td>0</td>\n",
       "      <td>Graduate</td>\n",
       "      <td>No</td>\n",
       "      <td>2900</td>\n",
       "      <td>0.0</td>\n",
       "      <td>71.0</td>\n",
       "      <td>360.0</td>\n",
       "      <td>1.0</td>\n",
       "      <td>Rural</td>\n",
       "      <td>Y</td>\n",
       "    </tr>\n",
       "    <tr>\n",
       "      <th>379</th>\n",
       "      <td>LP002979</td>\n",
       "      <td>Male</td>\n",
       "      <td>Yes</td>\n",
       "      <td>3+</td>\n",
       "      <td>Graduate</td>\n",
       "      <td>No</td>\n",
       "      <td>4106</td>\n",
       "      <td>0.0</td>\n",
       "      <td>40.0</td>\n",
       "      <td>180.0</td>\n",
       "      <td>1.0</td>\n",
       "      <td>Rural</td>\n",
       "      <td>Y</td>\n",
       "    </tr>\n",
       "    <tr>\n",
       "      <th>380</th>\n",
       "      <td>LP002990</td>\n",
       "      <td>Female</td>\n",
       "      <td>No</td>\n",
       "      <td>0</td>\n",
       "      <td>Graduate</td>\n",
       "      <td>Yes</td>\n",
       "      <td>4583</td>\n",
       "      <td>0.0</td>\n",
       "      <td>133.0</td>\n",
       "      <td>360.0</td>\n",
       "      <td>0.0</td>\n",
       "      <td>Semiurban</td>\n",
       "      <td>N</td>\n",
       "    </tr>\n",
       "  </tbody>\n",
       "</table>\n",
       "<p>381 rows × 13 columns</p>\n",
       "</div>"
      ],
      "text/plain": [
       "      Loan_ID  Gender Married Dependents     Education Self_Employed  \\\n",
       "0    LP001003    Male     Yes          1      Graduate            No   \n",
       "1    LP001005    Male     Yes          0      Graduate           Yes   \n",
       "2    LP001006    Male     Yes          0  Not Graduate            No   \n",
       "3    LP001008    Male      No          0      Graduate            No   \n",
       "4    LP001013    Male     Yes          0  Not Graduate            No   \n",
       "..        ...     ...     ...        ...           ...           ...   \n",
       "376  LP002953    Male     Yes         3+      Graduate            No   \n",
       "377  LP002974    Male     Yes          0      Graduate            No   \n",
       "378  LP002978  Female      No          0      Graduate            No   \n",
       "379  LP002979    Male     Yes         3+      Graduate            No   \n",
       "380  LP002990  Female      No          0      Graduate           Yes   \n",
       "\n",
       "     ApplicantIncome  CoapplicantIncome  LoanAmount  Loan_Amount_Term  \\\n",
       "0               4583             1508.0       128.0             360.0   \n",
       "1               3000                0.0        66.0             360.0   \n",
       "2               2583             2358.0       120.0             360.0   \n",
       "3               6000                0.0       141.0             360.0   \n",
       "4               2333             1516.0        95.0             360.0   \n",
       "..               ...                ...         ...               ...   \n",
       "376             5703                0.0       128.0             360.0   \n",
       "377             3232             1950.0       108.0             360.0   \n",
       "378             2900                0.0        71.0             360.0   \n",
       "379             4106                0.0        40.0             180.0   \n",
       "380             4583                0.0       133.0             360.0   \n",
       "\n",
       "     Credit_History Property_Area Loan_Status  \n",
       "0               1.0         Rural           N  \n",
       "1               1.0         Urban           Y  \n",
       "2               1.0         Urban           Y  \n",
       "3               1.0         Urban           Y  \n",
       "4               1.0         Urban           Y  \n",
       "..              ...           ...         ...  \n",
       "376             1.0         Urban           Y  \n",
       "377             1.0         Rural           Y  \n",
       "378             1.0         Rural           Y  \n",
       "379             1.0         Rural           Y  \n",
       "380             0.0     Semiurban           N  \n",
       "\n",
       "[381 rows x 13 columns]"
      ]
     },
     "execution_count": 104,
     "metadata": {},
     "output_type": "execute_result"
    }
   ],
   "source": [
    "df = pd.read_csv(\"loan_data.csv\")\n",
    "df"
   ]
  },
  {
   "cell_type": "code",
   "execution_count": 105,
   "metadata": {},
   "outputs": [],
   "source": [
    "columns_to_encode = [\"Married\", \"Education\",\"Gender\",\"Self_Employed\",\"Loan_Status\"]\n",
    "df.fillna(0, inplace=True)\n",
    "df = one_hot_encode_columns(columns_to_encode, df)\n",
    "df.drop([\"Loan_ID\", \"Dependents\",\"Property_Area\"],axis=1,inplace=True)"
   ]
  },
  {
   "cell_type": "code",
   "execution_count": 107,
   "metadata": {},
   "outputs": [
    {
     "data": {
      "image/png": "[encoded data removed]",
      "text/plain": [
       "<Figure size 1500x800 with 2 Axes>"
      ]
     },
     "metadata": {},
     "output_type": "display_data"
    }
   ],
   "source": [
    "plt.figure(figsize= (15,8))\n",
    "sns.heatmap(df.corr(), annot=True, cmap=\"YlGnBu\")\n",
    "plt.show()"
   ]
  },
  {
   "cell_type": "markdown",
   "metadata": {},
   "source": [
    "# Logistic Regression Analysis"
   ]
  },
  {
   "cell_type": "markdown",
   "metadata": {},
   "source": [
    "#### Loan Status Dependent Variable"
   ]
  },
  {
   "cell_type": "code",
   "execution_count": 108,
   "metadata": {},
   "outputs": [
    {
     "name": "stdout",
     "output_type": "stream",
     "text": [
      "              precision    recall  f1-score   support\n",
      "\n",
      "           0       0.64      0.40      0.49        35\n",
      "           1       0.77      0.90      0.83        80\n",
      "\n",
      "    accuracy                           0.75       115\n",
      "   macro avg       0.71      0.65      0.66       115\n",
      "weighted avg       0.73      0.75      0.73       115\n",
      "\n",
      "The Accuracy: 0.7478260869565218\n"
     ]
    }
   ],
   "source": [
    "cols_to_drop, y = [\"Loan_Status\"], df[\"Loan_Status\"]\n",
    "logistic_regression_analysis(df, y,cols_to_drop)"
   ]
  },
  {
   "cell_type": "markdown",
   "metadata": {},
   "source": [
    "#### Credit History Dependent Variable"
   ]
  },
  {
   "cell_type": "code",
   "execution_count": 109,
   "metadata": {},
   "outputs": [
    {
     "name": "stdout",
     "output_type": "stream",
     "text": [
      "              precision    recall  f1-score   support\n",
      "\n",
      "         0.0       0.43      0.42      0.43        24\n",
      "         1.0       0.85      0.86      0.85        91\n",
      "\n",
      "    accuracy                           0.77       115\n",
      "   macro avg       0.64      0.64      0.64       115\n",
      "weighted avg       0.76      0.77      0.76       115\n",
      "\n",
      "The Accuracy: 0.7652173913043478\n"
     ]
    }
   ],
   "source": [
    "cols_to_drop, y = [\"Credit_History\"], df[\"Credit_History\"]\n",
    "logistic_regression_analysis(df, y, cols_to_drop)"
   ]
  },
  {
   "cell_type": "markdown",
   "metadata": {},
   "source": [
    "# KNN Analysis"
   ]
  },
  {
   "cell_type": "markdown",
   "metadata": {},
   "source": [
    "#### Loan Status Dependent Variable"
   ]
  },
  {
   "cell_type": "code",
   "execution_count": 110,
   "metadata": {},
   "outputs": [
    {
     "name": "stdout",
     "output_type": "stream",
     "text": [
      "KNN Accuracy: 0.6956521739130435\n"
     ]
    }
   ],
   "source": [
    "cols_to_drop, y = [\"Loan_Status\"], df[\"Loan_Status\"]\n",
    "KNN_analysis(df, y,cols_to_drop)"
   ]
  },
  {
   "cell_type": "markdown",
   "metadata": {},
   "source": [
    "#### Credit History Dependent Variable"
   ]
  },
  {
   "cell_type": "code",
   "execution_count": 111,
   "metadata": {},
   "outputs": [
    {
     "name": "stdout",
     "output_type": "stream",
     "text": [
      "KNN Accuracy: 0.7304347826086957\n"
     ]
    }
   ],
   "source": [
    "cols_to_drop, y = [\"Credit_History\"], df[\"Credit_History\"]\n",
    "KNN_analysis(df, y,cols_to_drop)"
   ]
  },
  {
   "cell_type": "markdown",
   "metadata": {},
   "source": [
    "# Support Vector Machine Analysis"
   ]
  },
  {
   "cell_type": "markdown",
   "metadata": {},
   "source": [
    "#### Loan Status Depedent Variable"
   ]
  },
  {
   "cell_type": "code",
   "execution_count": 112,
   "metadata": {},
   "outputs": [
    {
     "name": "stdout",
     "output_type": "stream",
     "text": [
      "SVM Accuracy: 0.6956521739130435\n"
     ]
    }
   ],
   "source": [
    "cols_to_drop, y = [\"Loan_Status\"], df[\"Loan_Status\"]\n",
    "SVM_analysis(df, y,cols_to_drop)"
   ]
  },
  {
   "cell_type": "markdown",
   "metadata": {},
   "source": [
    "#### Credit History Dependent Variable"
   ]
  },
  {
   "cell_type": "code",
   "execution_count": 113,
   "metadata": {},
   "outputs": [
    {
     "name": "stdout",
     "output_type": "stream",
     "text": [
      "SVM Accuracy: 0.7913043478260869\n"
     ]
    }
   ],
   "source": [
    "cols_to_drop, y = [\"Credit_History\"], df[\"Credit_History\"]\n",
    "SVM_analysis(df, y,cols_to_drop)"
   ]
  }
 ],
 "metadata": {
  "kernelspec": {
   "display_name": "Python 3",
   "language": "python",
   "name": "python3"
  },
  "language_info": {
   "codemirror_mode": {
    "name": "ipython",
    "version": 3
   },
   "file_extension": ".py",
   "mimetype": "text/x-python",
   "name": "python",
   "nbconvert_exporter": "python",
   "pygments_lexer": "ipython3",
   "version": "3.11.8"
  }
 },
 "nbformat": 4,
 "nbformat_minor": 2
}
